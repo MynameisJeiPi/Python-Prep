{
 "cells": [
  {
   "attachments": {},
   "cell_type": "markdown",
   "metadata": {},
   "source": [
    "## Funciones"
   ]
  },
  {
   "attachments": {},
   "cell_type": "markdown",
   "metadata": {},
   "source": [
    "1) Crear una función que reciba un número como parámetro y devuelva True si es primo y False si no lo es"
   ]
  },
  {
   "cell_type": "code",
   "execution_count": 99,
   "metadata": {},
   "outputs": [
    {
     "name": "stdout",
     "output_type": "stream",
     "text": [
      "7 es primo.\n"
     ]
    }
   ],
   "source": [
    "x=(int)\n",
    "\n",
    "def primo(x):\n",
    "    num_prim=True\n",
    "    for divisor in range(2,x):\n",
    "        if x%divisor==0:\n",
    "            num_prim=False\n",
    "    if num_prim==True:\n",
    "        print(x,\"es primo.\")\n",
    "    else:\n",
    "        print(x,\"no es primo.\")\n",
    "\n",
    "primo(7)\n",
    "\n"
   ]
  },
  {
   "attachments": {},
   "cell_type": "markdown",
   "metadata": {},
   "source": [
    "2) Utilizando la función del punto 1, realizar otra función que reciba de parámetro una lista de números y devuelva sólo aquellos que son primos en otra lista"
   ]
  },
  {
   "cell_type": "code",
   "execution_count": 100,
   "metadata": {},
   "outputs": [
    {
     "data": {
      "text/plain": [
       "[1, 2, 3, 7, 11, 13]"
      ]
     },
     "execution_count": 100,
     "metadata": {},
     "output_type": "execute_result"
    }
   ],
   "source": [
    "# Modificamos la función para agregar el elemento a una nueva lista. \n",
    "\n",
    "x = (int)\n",
    "núm_primos=[]\n",
    "\n",
    "def primo(x):\n",
    "    num_prim = True\n",
    "    for divisor in range(2,x):\n",
    "        if x % divisor == 0:\n",
    "            num_prim = False\n",
    "    if num_prim == True:\n",
    "       núm_primos.append(x)\n",
    "    \n",
    "#Creamos la lista de números a evaluar y la lista de números primos.\n",
    "evaluar = [1,2,3,4,7,9,11,13,15]\n",
    "\n",
    "def evaluar_primos(evaluar):\n",
    "    for i in evaluar:\n",
    "        primo(i)\n",
    "\n",
    "evaluar_primos(evaluar)\n",
    "núm_primos\n"
   ]
  },
  {
   "attachments": {},
   "cell_type": "markdown",
   "metadata": {},
   "source": [
    "3) Crear una función que al recibir una lista de números, devuelva el que más se repite y cuántas veces lo hace. Si hay más de un \"más repetido\", que devuelva cualquiera"
   ]
  },
  {
   "cell_type": "code",
   "execution_count": 101,
   "metadata": {},
   "outputs": [
    {
     "data": {
      "text/plain": [
       "('Se repite', 2, 'veces el número', 1)"
      ]
     },
     "execution_count": 101,
     "metadata": {},
     "output_type": "execute_result"
    }
   ],
   "source": [
    "lista_de_números = [1,1,2,2,3,3] # Lista de números inicial. Es el input con que trabajará la función.\n",
    "números_contados = [] # Lista donde se guardarán las tuplas de los números ordenados (número, veces que se repite).\n",
    "ya_evaluados = [] # Variable de control para guardar los números que ya han sido evaluados.\n",
    "\n",
    "def número_moda(lista_de_números): # Función que te arroja la moda en una lista de números.\n",
    "    count = 0 # El contador de las veces que los números se repiten. Iniciamos en 0 para cada número.\n",
    "    for núm in lista_de_números: # Bucle que repasará cada número dentro de la lista inicial. El número a evaluar se guarda dentro de núm.\n",
    "        if núm in ya_evaluados: # Si el número ya se ha contado, se omite el resto del proceso. \n",
    "            continue\n",
    "        ya_evaluados.append(núm) # Se suma el número a evaluar en la una lista de control para no evaluar dos veces el mismo número. \n",
    "        for i in lista_de_números: # Comienza el proceso de conteo.\n",
    "            if núm == i: # Si el número en cuestión (núm) es igual a otro número dentro de la lista inicial, se suma uno a su cuenta. \n",
    "                count +=1\n",
    "                s = i # Se guarda el número dentro de una variable local para después llamarle dentro de una sentencia fuera del bucle. \n",
    "        números_contados.append((s,count)) # A la lista números_contados se le agrega la tupla con el número y las veces que se repite (número, frecuencia).\n",
    "        count=0 # Se reinicia el contador a 0 para evaluar el siguiente número dentro de la lista. \n",
    "    # Se reinicia el proceso de conteo. Segunda parte del códgio a continuación.\n",
    "    cuenta_max=(0) # Aquí se guardará el valor de la moda se repite.\n",
    "    número_max=(0) # Aquí se guardará la moda (el número que más se repite).\n",
    "    for número, cuenta in números_contados: # Se examina la lista de tuplas con los números evaluados de acuerdo con su frecuencia. \n",
    "            if cuenta > cuenta_max: \n",
    "                cuenta_max=cuenta # Se guarda en cuenta_max la frecuencia más alta. \n",
    "                número_max=número # Se guarda el número con mayor frecuencia.\n",
    "    return (\"Se repite\",cuenta_max,\"veces el número\",número_max) # Se imprime el resultado. \n",
    "\n",
    "# Fin de la función\n",
    "\n",
    "# Se llama a la función\n",
    "\n",
    "número_moda(lista_de_números)\n"
   ]
  },
  {
   "cell_type": "code",
   "execution_count": 102,
   "metadata": {},
   "outputs": [
    {
     "data": {
      "text/plain": [
       "('Se repite', 6, 'veces el número', 2)"
      ]
     },
     "execution_count": 102,
     "metadata": {},
     "output_type": "execute_result"
    }
   ],
   "source": [
    "# Versión de la función más depurada, con todas las variables necesarias dentro de la función y sin especificar una lista. \n",
    "\n",
    "def número_moda(list): \n",
    "    números_contados = [] \n",
    "    ya_evaluados = [] \n",
    "    count = 0 \n",
    "    for núm in list:\n",
    "        if núm in ya_evaluados:\n",
    "            continue\n",
    "        ya_evaluados.append(núm) \n",
    "        for i in list: \n",
    "            if núm == i:\n",
    "                count +=1\n",
    "                s = i \n",
    "        números_contados.append((s,count))\n",
    "        count=0 \n",
    "    cuenta_max=(0)\n",
    "    número_max=(0)\n",
    "    for número, cuenta in números_contados: \n",
    "            if cuenta > cuenta_max: \n",
    "                cuenta_max=cuenta\n",
    "                número_max=número \n",
    "    return (\"Se repite\",cuenta_max,\"veces el número\",número_max)\n",
    "\n",
    "número_moda([1,2,2,2,2,2,2,3,3,3,4,5])\n"
   ]
  },
  {
   "attachments": {},
   "cell_type": "markdown",
   "metadata": {},
   "source": [
    "4) Crear una función que convierta entre grados Celsius, Farenheit y Kelvin<br>\n",
    "Fórmula 1\t: (°C × 9/5) + 32 = °F<br>\n",
    "Fórmula 2\t: °C + 273.15 = °K<br>\n",
    "Debe recibir 3 parámetros: el valor, la medida de orígen y la medida de destino\n"
   ]
  },
  {
   "cell_type": "code",
   "execution_count": 103,
   "metadata": {},
   "outputs": [
    {
     "name": "stdout",
     "output_type": "stream",
     "text": [
      "130 Kelvin es igual a -225.66999999999996.\n",
      "130 Kelvin es igual a -143.14999999999998.\n",
      "130 Kelvin es igual a 130.\n",
      "130 Fahrenheit es igual a 54.44444444444444.\n",
      "130 Fahrenheit es igual a 327.59444444444443.\n",
      "130 Fahrenheit es igual a 130.\n",
      "130 Celsius es igual a 266.0.\n",
      "130 Celsius es igual a 403.15.\n",
      "130 Celsius es igual a 266.0.\n"
     ]
    }
   ],
   "source": [
    "def conversor_grados(valor, origen, destino):\n",
    "    if origen == \"Celsius\":\n",
    "        if destino == \"Kelvin\":\n",
    "            resultado = (valor+273.15)\n",
    "        elif destino == \"Fahrenheit\":\n",
    "            resultado = ((valor*9/5)+32)\n",
    "        elif destino == \"Celsius\":\n",
    "            resultado = valor\n",
    "    elif origen == \"Kelvin\":\n",
    "        if destino == \"Celsius\":\n",
    "            resultado = (valor-273.15)\n",
    "        elif destino == \"Fahrenheit\":\n",
    "            resultado =  (((valor-273.15)*1.8)+32)    \n",
    "        elif destino == \"Kelvin\":\n",
    "            resultado = valor       \n",
    "    elif origen == \"Fahrenheit\":\n",
    "        if destino == \"Kelvin\":\n",
    "            resultado = ((valor-32)*(5/9)+273.15)\n",
    "        elif destino == \"Celsius\":\n",
    "            resultado = ((valor-32)*5/9)\n",
    "        elif destino == \"Fahrenheit\":\n",
    "            resultado = valor\n",
    "    print(valor,origen,\"es igual a\",str(resultado)+\".\")\n",
    "\n",
    "conversor_grados(130,\"Kelvin\",\"Fahrenheit\")\n",
    "conversor_grados(130,\"Kelvin\",\"Celsius\")\n",
    "conversor_grados(130,\"Kelvin\",\"Kelvin\")\n",
    "conversor_grados(130,\"Fahrenheit\",\"Celsius\")\n",
    "conversor_grados(130,\"Fahrenheit\",\"Kelvin\")\n",
    "conversor_grados(130,\"Fahrenheit\",\"Fahrenheit\")\n",
    "conversor_grados(130,\"Celsius\",\"Fahrenheit\")\n",
    "conversor_grados(130,\"Celsius\",\"Kelvin\")\n",
    "conversor_grados(130,\"Celsius\",\"Fahrenheit\")\n",
    "\n"
   ]
  },
  {
   "attachments": {},
   "cell_type": "markdown",
   "metadata": {},
   "source": [
    "5) Iterando una lista con los tres valores posibles de temperatura que recibe la función del punto 5, hacer un print para cada combinación de los mismos:"
   ]
  },
  {
   "cell_type": "code",
   "execution_count": 104,
   "metadata": {},
   "outputs": [
    {
     "name": "stdout",
     "output_type": "stream",
     "text": [
      "1 Fahrenheit es igual a 1.\n",
      "1 Fahrenheit es igual a -17.22222222222222.\n",
      "1 Fahrenheit es igual a 255.92777777777775.\n",
      "1 Celsius es igual a 33.8.\n",
      "1 Celsius es igual a 1.\n",
      "1 Celsius es igual a 274.15.\n",
      "1 Kelvin es igual a -457.86999999999995.\n",
      "1 Kelvin es igual a -272.15.\n",
      "1 Kelvin es igual a 1.\n"
     ]
    }
   ],
   "source": [
    "unidades_temperatura=[\"Fahrenheit\",\"Celsius\",\"Kelvin\"]\n",
    "\n",
    "for origen in unidades_temperatura:\n",
    "    for destino in unidades_temperatura:\n",
    "        conversor_grados(1,origen,destino)\n"
   ]
  },
  {
   "attachments": {},
   "cell_type": "markdown",
   "metadata": {},
   "source": [
    "6) Armar una función que devuelva el factorial de un número. Tener en cuenta que el usuario puede equivocarse y enviar de parámetro un número no entero o negativo"
   ]
  },
  {
   "cell_type": "code",
   "execution_count": 120,
   "metadata": {},
   "outputs": [
    {
     "name": "stdout",
     "output_type": "stream",
     "text": [
      "Parámetro inválido.\n"
     ]
    }
   ],
   "source": [
    "def factorial(x):\n",
    "    if x == int and x > 0:\n",
    "        fact = x\n",
    "        while x > 1:\n",
    "            número = (fact)*(x-1)\n",
    "            fact = número\n",
    "            x-=1\n",
    "            print(número)\n",
    "    else:\n",
    "        print(\"Parámetro inválido.\")\n",
    "\n",
    "factorial(7)\n",
    "\n",
    "\n"
   ]
  },
  {
   "cell_type": "code",
   "execution_count": 169,
   "metadata": {},
   "outputs": [
    {
     "name": "stdout",
     "output_type": "stream",
     "text": [
      "6\n"
     ]
    }
   ],
   "source": [
    "def factorial(x):\n",
    "    if type(x) == int and x > 0:\n",
    "        fact = x\n",
    "        while x > 1:\n",
    "            número = (fact)*(x-1)\n",
    "            fact = número\n",
    "            x-=1\n",
    "        print(número)\n",
    "    else:\n",
    "        print(\"Parámetro inválido.\")\n",
    "\n",
    "factorial(3)"
   ]
  }
 ],
 "metadata": {
  "interpreter": {
   "hash": "c85384e4cb51c8b72350f3a8712cc8351fdc3955e32a27f9b60c6242ab125f01"
  },
  "kernelspec": {
   "display_name": "Python 3 (ipykernel)",
   "language": "python",
   "name": "python3"
  },
  "language_info": {
   "codemirror_mode": {
    "name": "ipython",
    "version": 3
   },
   "file_extension": ".py",
   "mimetype": "text/x-python",
   "name": "python",
   "nbconvert_exporter": "python",
   "pygments_lexer": "ipython3",
   "version": "3.11.4"
  }
 },
 "nbformat": 4,
 "nbformat_minor": 4
}
