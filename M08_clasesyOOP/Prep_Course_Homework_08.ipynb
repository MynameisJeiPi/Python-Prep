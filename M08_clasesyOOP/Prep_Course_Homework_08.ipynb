{
 "cells": [
  {
   "attachments": {},
   "cell_type": "markdown",
   "metadata": {},
   "source": [
    "## Clases y Programación Orientada a Objetos"
   ]
  },
  {
   "attachments": {},
   "cell_type": "markdown",
   "metadata": {},
   "source": [
    "1) Crear la clase vehículo que contenga los atributos:<br>\n",
    "Color<br>\n",
    "Si es moto, auto, camioneta ó camión<br>\n",
    "Cilindrada del motor"
   ]
  },
  {
   "cell_type": "code",
   "execution_count": 2,
   "metadata": {},
   "outputs": [],
   "source": [
    "class vehículo:\n",
    "    def __init__(self,color,tipo,cilindrada):\n",
    "        self.color = color\n",
    "        self.tipo = tipo\n",
    "        self.cilindrada = cilindrada"
   ]
  },
  {
   "attachments": {},
   "cell_type": "markdown",
   "metadata": {},
   "source": [
    "2) A la clase Vehiculo creada en el punto 1, agregar los siguientes métodos:<br>\n",
    "Acelerar<br>\n",
    "Frenar<br>\n",
    "Doblar<br>"
   ]
  },
  {
   "cell_type": "code",
   "execution_count": 3,
   "metadata": {},
   "outputs": [],
   "source": [
    "class vehículo:\n",
    "    def __init__(self,color,tipo,cilindrada):\n",
    "        self.color = color\n",
    "        self.tipo = tipo\n",
    "        self.cilindrada = cilindrada\n",
    "        self.velocidad = 0\n",
    "        self.dirección = 0\n",
    "    def acelerar(self,vel):\n",
    "        self.velocidad += vel\n",
    "        print(\"velocidad es\",self.velocidad,\"km/h.\")\n",
    "    def frenar(self,vel):\n",
    "        self.velocidad -= vel\n",
    "        print(\"velocidad es\",self.velocidad,\"km/h.\")\n",
    "    def doblar(self,grados):\n",
    "        self.dirección += grados\n",
    "        print(\"La dirección es\",str(self.dirección)+\"°.\")"
   ]
  },
  {
   "attachments": {},
   "cell_type": "markdown",
   "metadata": {},
   "source": [
    "3) Instanciar 3 objetos de la clase vehículo y ejecutar sus métodos, probar luego el resultado"
   ]
  },
  {
   "cell_type": "code",
   "execution_count": 4,
   "metadata": {},
   "outputs": [
    {
     "name": "stdout",
     "output_type": "stream",
     "text": [
      "velocidad es 5 km/h.\n",
      "velocidad es 2 km/h.\n",
      "La dirección es 90°.\n"
     ]
    }
   ],
   "source": [
    "v1 = vehículo(\"blanca\",\"moto\",125)\n",
    "v2 = vehículo(\"gris\",\"camioneta\",3000)\n",
    "v3 = vehículo(\"rojo\",\"auto\",2000)\n",
    "\n",
    "v1.acelerar(5)\n",
    "v1.frenar(3)\n",
    "v3.doblar(90)\n"
   ]
  },
  {
   "attachments": {},
   "cell_type": "markdown",
   "metadata": {},
   "source": [
    "4) Agregar a la clase Vehiculo, un método que muestre su estado, es decir, a que velocidad se encuentra y su dirección. Y otro método que muestre color, tipo y cilindrada"
   ]
  },
  {
   "cell_type": "code",
   "execution_count": 5,
   "metadata": {},
   "outputs": [],
   "source": [
    "class vehículo:\n",
    "    def __init__(self,color,tipo,cilindrada):\n",
    "        self.color = color\n",
    "        self.tipo = tipo\n",
    "        self.cilindrada = cilindrada\n",
    "        self.velocidad = 0\n",
    "        self.dirección = 0\n",
    "    def acelerar(self,vel):\n",
    "        self.velocidad += vel\n",
    "    def frenar(self,vel):\n",
    "        self.velocidad -= vel\n",
    "    def doblar(self,grados):\n",
    "        self.dirección += grados\n",
    "    def mostrar_estado(self):\n",
    "        print(\"La velocidad del vehículo es de\",self.velocidad,\"km/h, y en dirección de\",str(self.dirección)+\"°.\")\n",
    "    def describir_vehículo(self):\n",
    "        print(\"El vehículo es del tipo\",str(self.tipo)+\", de color\",self.color,\"y cilindrada de\",self.cilindrada,\"cc.\")\n"
   ]
  },
  {
   "attachments": {},
   "cell_type": "markdown",
   "metadata": {},
   "source": [
    "5) Crear una clase que permita utilizar las funciones creadas en la práctica del módulo 7<br>\n",
    "Verificar Primo<br>\n",
    "Valor modal<br>\n",
    "Conversión grados<br>\n",
    "Factorial<br>"
   ]
  },
  {
   "cell_type": "code",
   "execution_count": 6,
   "metadata": {},
   "outputs": [],
   "source": [
    "class Herramientas:\n",
    "    def __init__(self) -> None:\n",
    "        pass\n",
    "\n",
    "    # Función para verificar primos.\n",
    "    def primo(self,x):\n",
    "        num_prim=True\n",
    "        for divisor in range(2,x):\n",
    "            if x%divisor==0:\n",
    "                num_prim=False\n",
    "        if num_prim==True:\n",
    "            print(x,\"es primo.\")\n",
    "        else:\n",
    "            print(x,\"no es primo.\")\n",
    "\n",
    "    # Función para calcular el valor modal.\n",
    "    def valor_moda(self,list): \n",
    "        números_contados = [] \n",
    "        ya_evaluados = [] \n",
    "        count = 0 \n",
    "        for núm in list:\n",
    "            if núm in ya_evaluados:\n",
    "                continue\n",
    "            ya_evaluados.append(núm) \n",
    "            for i in list: \n",
    "                if núm == i:\n",
    "                    count +=1\n",
    "                    s = i \n",
    "            números_contados.append((s,count))\n",
    "            count=0 \n",
    "        cuenta_max=(0)\n",
    "        número_max=(0)\n",
    "        for número, cuenta in números_contados: \n",
    "                if cuenta > cuenta_max: \n",
    "                    cuenta_max=cuenta\n",
    "                    número_max=número \n",
    "        print(\"Se repite\",cuenta_max,\"veces el número\",número_max)\n",
    "\n",
    "    # Función para convertir los grados.\n",
    "    def conversión_grados(self,valor,origen,destino):\n",
    "        if origen == \"Celsius\":\n",
    "            if destino == \"Kelvin\":\n",
    "                resultado = (valor+273.15)\n",
    "            elif destino == \"Fahrenheit\":\n",
    "                resultado = ((valor*9/5)+32)\n",
    "            elif destino == \"Celsius\":\n",
    "                resultado = valor\n",
    "        elif origen == \"Kelvin\":\n",
    "            if destino == \"Celsius\":\n",
    "                resultado = (valor-273.15)\n",
    "            elif destino == \"Fahrenheit\":\n",
    "                resultado =  (((valor-273.15)*1.8)+32)    \n",
    "            elif destino == \"Kelvin\":\n",
    "                resultado = valor       \n",
    "        elif origen == \"Fahrenheit\":\n",
    "            if destino == \"Kelvin\":\n",
    "                resultado = ((valor-32)*(5/9)+273.15)\n",
    "            elif destino == \"Celsius\":\n",
    "                resultado = ((valor-32)*5/9)\n",
    "            elif destino == \"Fahrenheit\":\n",
    "                resultado = valor\n",
    "        print(valor,origen,\"es igual a\",resultado,str(destino)+\".\")\n",
    "    \n",
    "    # Función para calcular el factorial de un número.\n",
    "    def factorial(self,x):\n",
    "        if type(x) == int and x > 0:\n",
    "            fact = x\n",
    "            while x > 1:\n",
    "                número = (fact)*(x-1)\n",
    "                fact = número\n",
    "                x-=1\n",
    "            print(número)\n",
    "        else:\n",
    "            print(\"Parámetro inválido.\")\n"
   ]
  },
  {
   "attachments": {},
   "cell_type": "markdown",
   "metadata": {},
   "source": [
    "6) Probar las funciones incorporadas en la clase del punto 5"
   ]
  },
  {
   "cell_type": "code",
   "execution_count": 7,
   "metadata": {},
   "outputs": [
    {
     "name": "stdout",
     "output_type": "stream",
     "text": [
      "Se repite 3 veces el número 4\n",
      "5555 Celsius es igual a 10031.0 Fahrenheit.\n",
      "5040\n",
      "634 no es primo.\n"
     ]
    }
   ],
   "source": [
    "h = Herramientas()\n",
    "h.valor_moda([1,2,3,4,4,4,5,6,7])\n",
    "h.conversión_grados(5555,\"Celsius\",\"Fahrenheit\")\n",
    "h.factorial(7)\n",
    "h.primo(634)"
   ]
  },
  {
   "attachments": {},
   "cell_type": "markdown",
   "metadata": {},
   "source": [
    "7) Es necesario que la clase creada en el punto 5 contenga una lista, sobre la cual se apliquen las funciones incorporadas"
   ]
  },
  {
   "cell_type": "code",
   "execution_count": 8,
   "metadata": {},
   "outputs": [],
   "source": [
    "class Herramientas:\n",
    "    def __init__(self,lista_números):\n",
    "        self.lista = lista_números\n",
    "\n",
    "    # Función para verificar primos.\n",
    "    def primo(self):\n",
    "        for x in self.lista:\n",
    "            num_prim=True\n",
    "            for divisor in range(2,x):\n",
    "                if x%divisor==0:\n",
    "                    num_prim=False\n",
    "            if num_prim==True:\n",
    "                print(x,\"es primo.\")\n",
    "            else:\n",
    "                print(x,\"no es primo.\")\n",
    "\n",
    "    # Función para calcular el valor modal.\n",
    "    def valor_moda(self): \n",
    "        números_contados = [] \n",
    "        ya_evaluados = [] \n",
    "        count = 0 \n",
    "        for núm in self.lista:\n",
    "            if núm in ya_evaluados:\n",
    "                continue\n",
    "            ya_evaluados.append(núm) \n",
    "            for i in self.lista: \n",
    "                if núm == i:\n",
    "                    count +=1\n",
    "                    s = i \n",
    "            números_contados.append((s,count))\n",
    "            count=0 \n",
    "        cuenta_max=(0)\n",
    "        número_max=(0)\n",
    "        for número, cuenta in números_contados: \n",
    "                if cuenta > cuenta_max: \n",
    "                    cuenta_max=cuenta\n",
    "                    número_max=número \n",
    "        print(\"Se repite\",cuenta_max,\"veces el número\",número_max)\n",
    "\n",
    "    # Función para convertir los grados.\n",
    "    def conversión_grados(self,origen,destino):\n",
    "        for valor in self.lista:\n",
    "            if origen == \"Celsius\":\n",
    "                if destino == \"Kelvin\":\n",
    "                    resultado = (valor+273.15)\n",
    "                elif destino == \"Fahrenheit\":\n",
    "                    resultado = ((valor*9/5)+32)\n",
    "                elif destino == \"Celsius\":\n",
    "                    resultado = valor\n",
    "            elif origen == \"Kelvin\":\n",
    "                if destino == \"Celsius\":\n",
    "                    resultado = (valor-273.15)\n",
    "                elif destino == \"Fahrenheit\":\n",
    "                    resultado =  (((valor-273.15)*1.8)+32)    \n",
    "                elif destino == \"Kelvin\":\n",
    "                    resultado = valor       \n",
    "            elif origen == \"Fahrenheit\":\n",
    "                if destino == \"Kelvin\":\n",
    "                    resultado = ((valor-32)*(5/9)+273.15)\n",
    "                elif destino == \"Celsius\":\n",
    "                    resultado = ((valor-32)*5/9)\n",
    "                elif destino == \"Fahrenheit\":\n",
    "                    resultado = valor\n",
    "            print(valor,origen,\"es igual a\",resultado,str(destino)+\".\")\n",
    "\n",
    "    # Función para calcular el factorial de un número.\n",
    "\n",
    "    def factorial(self):\n",
    "        número = 0\n",
    "        for x in self.lista:\n",
    "            if type(x) == int and x > 0:\n",
    "                fact = x\n",
    "                while x > 1:\n",
    "                    número = (fact)*(x-1)\n",
    "                    fact = número\n",
    "                    x-=1\n",
    "                print(número)\n",
    "            else:\n",
    "                print(\"Parámetro inválido.\")\n"
   ]
  },
  {
   "cell_type": "code",
   "execution_count": 9,
   "metadata": {},
   "outputs": [
    {
     "name": "stdout",
     "output_type": "stream",
     "text": [
      "1 es primo.\n",
      "2 es primo.\n",
      "3 es primo.\n",
      "4 no es primo.\n",
      "4 no es primo.\n",
      "5 es primo.\n",
      "6 no es primo.\n",
      "7 es primo.\n",
      "8 no es primo.\n",
      "9 no es primo.\n",
      "Se repite 2 veces el número 4\n",
      "1 Celsius es igual a 33.8 Fahrenheit.\n",
      "2 Celsius es igual a 35.6 Fahrenheit.\n",
      "3 Celsius es igual a 37.4 Fahrenheit.\n",
      "4 Celsius es igual a 39.2 Fahrenheit.\n",
      "4 Celsius es igual a 39.2 Fahrenheit.\n",
      "5 Celsius es igual a 41.0 Fahrenheit.\n",
      "6 Celsius es igual a 42.8 Fahrenheit.\n",
      "7 Celsius es igual a 44.6 Fahrenheit.\n",
      "8 Celsius es igual a 46.4 Fahrenheit.\n",
      "9 Celsius es igual a 48.2 Fahrenheit.\n",
      "0\n",
      "2\n",
      "6\n",
      "24\n",
      "24\n",
      "120\n",
      "720\n",
      "5040\n",
      "40320\n",
      "362880\n"
     ]
    }
   ],
   "source": [
    "h = Herramientas([1,2,3,4,4,5,6,7,8,9])\n",
    "h.primo()\n",
    "h.valor_moda()\n",
    "h.conversión_grados(\"Celsius\",\"Fahrenheit\")\n",
    "h.factorial()\n"
   ]
  },
  {
   "attachments": {},
   "cell_type": "markdown",
   "metadata": {},
   "source": [
    "8) Crear un archivo .py aparte y ubicar allí la clase generada en el punto anterior. Luego realizar la importación del módulo y probar alguna de sus funciones"
   ]
  },
  {
   "cell_type": "code",
   "execution_count": 10,
   "metadata": {},
   "outputs": [
    {
     "name": "stdout",
     "output_type": "stream",
     "text": [
      "['Herramientas', 'Herramientas_lista', '__builtins__', '__cached__', '__doc__', '__file__', '__loader__', '__name__', '__package__', '__spec__']\n"
     ]
    }
   ],
   "source": [
    "import Caja_de_herramientas\n",
    "print(dir(Caja_de_herramientas))\n",
    "#from Caja_de_herramientas import Herramientas\n",
    "\n"
   ]
  },
  {
   "cell_type": "code",
   "execution_count": 11,
   "metadata": {},
   "outputs": [
    {
     "name": "stdout",
     "output_type": "stream",
     "text": [
      "['Herramientas', 'Herramientas_lista', '__builtins__', '__cached__', '__doc__', '__file__', '__loader__', '__name__', '__package__', '__spec__']\n",
      "5040\n"
     ]
    }
   ],
   "source": [
    "import importlib\n",
    "importlib.reload(Caja_de_herramientas)\n",
    "print(dir(Caja_de_herramientas))\n",
    "\n",
    "from Caja_de_herramientas import Herramientas\n",
    "h = Herramientas()\n",
    "h.factorial(7)\n"
   ]
  }
 ],
 "metadata": {
  "interpreter": {
   "hash": "c85384e4cb51c8b72350f3a8712cc8351fdc3955e32a27f9b60c6242ab125f01"
  },
  "kernelspec": {
   "display_name": "Python 3 (ipykernel)",
   "language": "python",
   "name": "python3"
  },
  "language_info": {
   "codemirror_mode": {
    "name": "ipython",
    "version": 3
   },
   "file_extension": ".py",
   "mimetype": "text/x-python",
   "name": "python",
   "nbconvert_exporter": "python",
   "pygments_lexer": "ipython3",
   "version": "3.11.4"
  }
 },
 "nbformat": 4,
 "nbformat_minor": 4
}
