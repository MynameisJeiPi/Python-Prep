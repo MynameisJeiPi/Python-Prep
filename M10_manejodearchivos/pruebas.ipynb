{
 "cells": [
  {
   "cell_type": "code",
   "execution_count": 5,
   "metadata": {},
   "outputs": [
    {
     "name": "stdout",
     "output_type": "stream",
     "text": [
      "1692674332\n",
      "<class 'int'>\n"
     ]
    }
   ],
   "source": [
    "import datetime\n",
    "\n",
    "marca_de_tiempo = datetime.datetime.now()\n",
    "marca_de_tiempo = int(datetime.datetime.timestamp(marca_de_tiempo))\n",
    "\n",
    "print(marca_de_tiempo)\n",
    "print(type(marca_de_tiempo))"
   ]
  },
  {
   "cell_type": "code",
   "execution_count": 8,
   "metadata": {},
   "outputs": [
    {
     "name": "stdout",
     "output_type": "stream",
     "text": [
      "ERROR: Introdujo una cantidad de argumentos distinta de tres (3)\n",
      "Ejemplo: clase09_ej1.py <temperatura> <humedad> <True o False>\n",
      "El número de argumentos dados fue de  11\n",
      "C:\\Users\\j1941\\AppData\\Roaming\\Python\\Python311\\site-packages\\ipykernel_launcher.py\n",
      "--ip=127.0.0.1\n",
      "--stdin=9003\n",
      "--control=9001\n",
      "--hb=9000\n",
      "--Session.signature_scheme=\"hmac-sha256\"\n",
      "--Session.key=b\"7a2b072c-8bdc-4835-a139-aa23f86ec0f1\"\n",
      "--shell=9002\n",
      "--transport=\"tcp\"\n",
      "--iopub=9004\n",
      "--f=c:\\Users\\j1941\\AppData\\Roaming\\jupyter\\runtime\\kernel-v2-35412avH7JoRB4plo.json\n"
     ]
    }
   ],
   "source": [
    "import importlib\n",
    "import sys\n",
    "importlib.reload(sys)\n",
    "\n",
    "\n",
    "lluvia = input(\"Ingrese True si llovio o False si no llovió:\")\n",
    "temperatura = input(\"Ingrese temperatura en °C:\")\n",
    "humedad = input(\"Ingrese porcentaje de humedad:\")\n",
    "\n",
    "if len(sys.argv) == 3:\n",
    "    import datetime\n",
    "    import os\n",
    "    marca_de_tiempo = datetime.datetime.now()\n",
    "    marca_de_tiempo = int(datetime.datetime.timestamp(marca_de_tiempo))\n",
    "    línea = str(marca_de_tiempo) + ',' + temperatura + ',' + humedad + ',' + lluvia\n",
    "\n",
    "    logs_lluvia = open('clase09_ex2.csv', 'a')\n",
    "    logs_lluvia.write(línea+'\\n')\n",
    "    logs_lluvia.close()\n",
    "\n",
    "else:\n",
    "    print(\"ERROR: Introdujo una cantidad de argumentos distinta de tres (3)\")\n",
    "    print('Ejemplo: clase09_ej1.py <temperatura> <humedad> <True o False>')\n",
    "    print(\"El número de argumentos dados fue de \",len(sys.argv))\n",
    "\n",
    "for argumento in sys.argv:\n",
    "    print(argumento)"
   ]
  }
 ],
 "metadata": {
  "kernelspec": {
   "display_name": "Python 3",
   "language": "python",
   "name": "python3"
  },
  "language_info": {
   "codemirror_mode": {
    "name": "ipython",
    "version": 3
   },
   "file_extension": ".py",
   "mimetype": "text/x-python",
   "name": "python",
   "nbconvert_exporter": "python",
   "pygments_lexer": "ipython3",
   "version": "3.11.4"
  },
  "orig_nbformat": 4
 },
 "nbformat": 4,
 "nbformat_minor": 2
}
