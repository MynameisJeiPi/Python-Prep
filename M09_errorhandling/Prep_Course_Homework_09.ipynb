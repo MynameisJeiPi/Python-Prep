{
 "cells": [
  {
   "attachments": {},
   "cell_type": "markdown",
   "metadata": {},
   "source": [
    "## Manejo de errores"
   ]
  },
  {
   "attachments": {},
   "cell_type": "markdown",
   "metadata": {},
   "source": [
    "1) Con la clase creada en el módulo 7, tener en cuenta diferentes casos en que el código pudiera arrojar error. Por ejemplo, en la creación del objeto recibimos una lista de números enteros pero ¿qué pasa si se envía otro tipo de dato?"
   ]
  },
  {
   "cell_type": "code",
   "execution_count": 8,
   "metadata": {},
   "outputs": [
    {
     "name": "stdout",
     "output_type": "stream",
     "text": [
      "c:\\Users/j1941/OneDrive/Escritorio/Python-Prep/M08_clasesyOOP\\Caja_de_herramientas.py\n"
     ]
    }
   ],
   "source": [
    "import sys\n",
    "\n",
    "sys.path.append(r\"c:/Users/j1941/OneDrive/Escritorio/Python-Prep/M08_clasesyOOP\")\n",
    "\n",
    "import Caja_de_herramientas\n",
    "print(Caja_de_herramientas.__file__)"
   ]
  },
  {
   "cell_type": "markdown",
   "metadata": {},
   "source": [
    "Prueba de las funciones en la clase Herramientas."
   ]
  },
  {
   "cell_type": "code",
   "execution_count": 9,
   "metadata": {},
   "outputs": [
    {
     "ename": "ValueError",
     "evalue": "Solo se admiten listas de números",
     "output_type": "error",
     "traceback": [
      "\u001b[1;31m---------------------------------------------------------------------------\u001b[0m",
      "\u001b[1;31mValueError\u001b[0m                                Traceback (most recent call last)",
      "Cell \u001b[1;32mIn[9], line 1\u001b[0m\n\u001b[1;32m----> 1\u001b[0m h \u001b[39m=\u001b[39m Caja_de_herramientas\u001b[39m.\u001b[39;49mHerramientas([\u001b[39m1\u001b[39;49m,\u001b[39m2\u001b[39;49m,\u001b[39m3\u001b[39;49m,\u001b[39m3\u001b[39;49m,\u001b[39m4\u001b[39;49m,\u001b[39m4\u001b[39;49m,\u001b[39m4\u001b[39;49m,])\n\u001b[0;32m      3\u001b[0m h\u001b[39m.\u001b[39mconversión_grados(\u001b[39m\"\u001b[39m\u001b[39mCelsius\u001b[39m\u001b[39m\"\u001b[39m,\u001b[39m\"\u001b[39m\u001b[39mFahrenheit\u001b[39m\u001b[39m\"\u001b[39m)\n\u001b[0;32m      5\u001b[0m h\u001b[39m.\u001b[39mprimo()\n",
      "File \u001b[1;32mc:\\Users/j1941/OneDrive/Escritorio/Python-Prep/M08_clasesyOOP\\Caja_de_herramientas.py:6\u001b[0m, in \u001b[0;36mHerramientas.__init__\u001b[1;34m(self, lista_números)\u001b[0m\n\u001b[0;32m      4\u001b[0m \u001b[39mdef\u001b[39;00m \u001b[39m__init__\u001b[39m(\u001b[39mself\u001b[39m,lista_números):\n\u001b[0;32m      5\u001b[0m     \u001b[39mif\u001b[39;00m lista_números \u001b[39m!=\u001b[39m [\u001b[39mint\u001b[39m]:\n\u001b[1;32m----> 6\u001b[0m         \u001b[39mraise\u001b[39;00m \u001b[39mValueError\u001b[39;00m(\u001b[39m\"\u001b[39m\u001b[39mSolo se admiten listas de números\u001b[39m\u001b[39m\"\u001b[39m)\n\u001b[0;32m      7\u001b[0m     \u001b[39mself\u001b[39m\u001b[39m.\u001b[39mlista \u001b[39m=\u001b[39m lista_números\n",
      "\u001b[1;31mValueError\u001b[0m: Solo se admiten listas de números"
     ]
    }
   ],
   "source": [
    "h = Caja_de_herramientas.Herramientas([1,2,3,3,4,4,4,])\n",
    "\n",
    "h.conversión_grados(\"Celsius\",\"Fahrenheit\")\n",
    "\n",
    "h.primo()\n",
    "\n",
    "h.valor_moda()\n",
    "\n",
    "h.factorial()\n"
   ]
  },
  {
   "attachments": {},
   "cell_type": "markdown",
   "metadata": {},
   "source": [
    "2) En la función que hace la conversión de grados, validar que los parámetros enviados sean los esperados, de no serlo, informar cuáles son los valores esperados."
   ]
  },
  {
   "cell_type": "code",
   "execution_count": null,
   "metadata": {},
   "outputs": [
    {
     "ename": "AssertionError",
     "evalue": "Parámetro inválido. Los parámetros válidos son Celsius, Kelvin y Fahrenheit.",
     "output_type": "error",
     "traceback": [
      "\u001b[1;31m---------------------------------------------------------------------------\u001b[0m",
      "\u001b[1;31mAssertionError\u001b[0m                            Traceback (most recent call last)",
      "Cell \u001b[1;32mIn[96], line 2\u001b[0m\n\u001b[0;32m      1\u001b[0m h \u001b[39m=\u001b[39m Caja_de_herramientas\u001b[39m.\u001b[39mHerramientas([\u001b[39m1\u001b[39m,\u001b[39m2\u001b[39m,\u001b[39m3\u001b[39m,\u001b[39m3\u001b[39m,\u001b[39m4\u001b[39m,\u001b[39m4\u001b[39m,\u001b[39m4\u001b[39m,])\n\u001b[1;32m----> 2\u001b[0m h\u001b[39m.\u001b[39;49mconversión_grados(\u001b[39m\"\u001b[39;49m\u001b[39mPerrito de la pradera\u001b[39;49m\u001b[39m\"\u001b[39;49m,\u001b[39m\"\u001b[39;49m\u001b[39mFahrenheit\u001b[39;49m\u001b[39m\"\u001b[39;49m)\n",
      "File \u001b[1;32mc:\\Users/j1941/OneDrive/Escritorio/Python-Prep/M08_clasesyOOP\\Caja_de_herramientas.py:58\u001b[0m, in \u001b[0;36mHerramientas.conversión_grados\u001b[1;34m(self, origen, destino)\u001b[0m\n\u001b[0;32m     57\u001b[0m \u001b[39mdef\u001b[39;00m \u001b[39mconversión_grados\u001b[39m(\u001b[39mself\u001b[39m,origen,destino):\n\u001b[1;32m---> 58\u001b[0m     \u001b[39massert\u001b[39;00m origen \u001b[39min\u001b[39;00m [\u001b[39m\"\u001b[39m\u001b[39mCelsius\u001b[39m\u001b[39m\"\u001b[39m,\u001b[39m\"\u001b[39m\u001b[39mKelvin\u001b[39m\u001b[39m\"\u001b[39m,\u001b[39m\"\u001b[39m\u001b[39mFahrenheit\u001b[39m\u001b[39m\"\u001b[39m], \u001b[39m\"\u001b[39m\u001b[39mParámetro inválido. Los parámetros válidos son Celsius, Kelvin y Fahrenheit.\u001b[39m\u001b[39m\"\u001b[39m\n\u001b[0;32m     59\u001b[0m     \u001b[39massert\u001b[39;00m destino \u001b[39min\u001b[39;00m [\u001b[39m\"\u001b[39m\u001b[39mCelsius\u001b[39m\u001b[39m\"\u001b[39m,\u001b[39m\"\u001b[39m\u001b[39mKelvin\u001b[39m\u001b[39m\"\u001b[39m,\u001b[39m\"\u001b[39m\u001b[39mFahrenheit\u001b[39m\u001b[39m\"\u001b[39m], \u001b[39m\"\u001b[39m\u001b[39mParámetro inválido. Los parámetros válidos son Celsius, Kelvin y Fahrenheit.\u001b[39m\u001b[39m\"\u001b[39m\n\u001b[0;32m     60\u001b[0m     \u001b[39mfor\u001b[39;00m valor \u001b[39min\u001b[39;00m \u001b[39mself\u001b[39m\u001b[39m.\u001b[39mlista:\n",
      "\u001b[1;31mAssertionError\u001b[0m: Parámetro inválido. Los parámetros válidos son Celsius, Kelvin y Fahrenheit."
     ]
    }
   ],
   "source": [
    "h = Caja_de_herramientas.Herramientas([1,2,3,3,4,4,4,])\n",
    "h.conversión_grados(\"Perrito de la pradera\",\"Fahrenheit\")"
   ]
  },
  {
   "attachments": {},
   "cell_type": "markdown",
   "metadata": {},
   "source": [
    "3) Importar el modulo \"unittest\" y crear los siguientes casos de pruebas sobre la clase utilizada en el punto 2<br>\n",
    "Creacion del objeto incorrecta<br>\n",
    "Creacion correcta del objeto<br>\n",
    "Metodo valor_modal()<br>\n",
    "\n",
    "Se puede usar \"raise ValueError()\" en la creación de la clase para verificar el error. Investigar sobre esta funcionalidad."
   ]
  },
  {
   "cell_type": "code",
   "execution_count": 19,
   "metadata": {},
   "outputs": [
    {
     "name": "stdout",
     "output_type": "stream",
     "text": [
      "['c:\\\\Users\\\\j1941\\\\OneDrive\\\\Escritorio\\\\Python-Prep\\\\M09_errorhandling', 'c:\\\\Users\\\\j1941\\\\AppData\\\\Local\\\\Programs\\\\Python\\\\Python311\\\\python311.zip', 'c:\\\\Users\\\\j1941\\\\AppData\\\\Local\\\\Programs\\\\Python\\\\Python311\\\\DLLs', 'c:\\\\Users\\\\j1941\\\\AppData\\\\Local\\\\Programs\\\\Python\\\\Python311\\\\Lib', 'c:\\\\Users\\\\j1941\\\\AppData\\\\Local\\\\Programs\\\\Python\\\\Python311', '', 'C:\\\\Users\\\\j1941\\\\AppData\\\\Roaming\\\\Python\\\\Python311\\\\site-packages', 'C:\\\\Users\\\\j1941\\\\AppData\\\\Roaming\\\\Python\\\\Python311\\\\site-packages\\\\win32', 'C:\\\\Users\\\\j1941\\\\AppData\\\\Roaming\\\\Python\\\\Python311\\\\site-packages\\\\win32\\\\lib', 'C:\\\\Users\\\\j1941\\\\AppData\\\\Roaming\\\\Python\\\\Python311\\\\site-packages\\\\Pythonwin', 'c:\\\\Users\\\\j1941\\\\AppData\\\\Local\\\\Programs\\\\Python\\\\Python311\\\\Lib\\\\site-packages', 'c:/Users/j1941/OneDrive/Escritorio/Python-Prep/M08_clasesyOOP', 'c:/Users/j1941/OneDrive/Escritorio/Python-Prep/M08_clasesyOOP', 'c:/Users/j1941/OneDrive/Escritorio/Python-Prep/M08_clasesyOOP']\n"
     ]
    },
    {
     "ename": "ValueError",
     "evalue": "La lista solo debe contener números enteros.",
     "output_type": "error",
     "traceback": [
      "\u001b[1;31m---------------------------------------------------------------------------\u001b[0m",
      "\u001b[1;31mValueError\u001b[0m                                Traceback (most recent call last)",
      "Cell \u001b[1;32mIn[19], line 6\u001b[0m\n\u001b[0;32m      4\u001b[0m \u001b[39mimport\u001b[39;00m \u001b[39mimportlib\u001b[39;00m\n\u001b[0;32m      5\u001b[0m importlib\u001b[39m.\u001b[39mreload(Caja_de_herramientas)\n\u001b[1;32m----> 6\u001b[0m h1 \u001b[39m=\u001b[39m Caja_de_herramientas\u001b[39m.\u001b[39;49mHerramientas([\u001b[39m1\u001b[39;49m,\u001b[39m2\u001b[39;49m,\u001b[39m3\u001b[39;49m,\u001b[39m\"\u001b[39;49m\u001b[39mperrito\u001b[39;49m\u001b[39m\"\u001b[39;49m])\n",
      "File \u001b[1;32mc:\\Users/j1941/OneDrive/Escritorio/Python-Prep/M08_clasesyOOP\\Caja_de_herramientas.py:9\u001b[0m, in \u001b[0;36mHerramientas.__init__\u001b[1;34m(self, lista_números)\u001b[0m\n\u001b[0;32m      7\u001b[0m \u001b[39mfor\u001b[39;00m núm \u001b[39min\u001b[39;00m lista_números:\n\u001b[0;32m      8\u001b[0m     \u001b[39mif\u001b[39;00m \u001b[39mnot\u001b[39;00m \u001b[39misinstance\u001b[39m(núm,\u001b[39mint\u001b[39m):\n\u001b[1;32m----> 9\u001b[0m         \u001b[39mraise\u001b[39;00m \u001b[39mValueError\u001b[39;00m(\u001b[39m\"\u001b[39m\u001b[39mLa lista solo debe contener números enteros.\u001b[39m\u001b[39m\"\u001b[39m)\n\u001b[0;32m     10\u001b[0m \u001b[39mself\u001b[39m\u001b[39m.\u001b[39mlista \u001b[39m=\u001b[39m lista_números\n",
      "\u001b[1;31mValueError\u001b[0m: La lista solo debe contener números enteros."
     ]
    }
   ],
   "source": [
    "import sys\n",
    "print(sys.path)\n",
    "import Caja_de_herramientas\n",
    "import importlib\n",
    "importlib.reload(Caja_de_herramientas)\n",
    "h1 = Caja_de_herramientas.Herramientas([1,2,3,\"perrito\"])\n",
    "\n"
   ]
  },
  {
   "cell_type": "code",
   "execution_count": 59,
   "metadata": {},
   "outputs": [
    {
     "name": "stdout",
     "output_type": "stream",
     "text": [
      "Se repite 2 veces el número 2\n"
     ]
    }
   ],
   "source": [
    "importlib.reload(Caja_de_herramientas)\n",
    "import Caja_de_herramientas as h\n",
    "h1 = h.Herramientas([1,2,2,3])\n",
    "resultado = h1.valor_moda()"
   ]
  },
  {
   "cell_type": "code",
   "execution_count": 61,
   "metadata": {},
   "outputs": [],
   "source": [
    "class ProbandoMiClase(unittest.TestCase):\n",
    "    def test_crear_objeto1(self):\n",
    "        param = \"hola\"\n",
    "        self.assertRaises(ValueError, h.Herramientas, param)\n",
    "    def test_crear_objeto2(self):\n",
    "        param = [1,2,3]\n",
    "        h1 = h.Herramientas(param)\n",
    "        self.assertEqual(h1.lista, param)\n",
    "    def test_valor_moda(self):\n",
    "        h2 = h.Herramientas([1,2,2,3])\n",
    "        resultado = h2.valor_moda()\n",
    "        resultado_esperado = \"Se repite 2 veces el número 2\" \n",
    "        self.assertEqual(resultado, resultado_esperado)\n",
    "\n",
    "\n",
    "    \n"
   ]
  },
  {
   "cell_type": "code",
   "execution_count": 62,
   "metadata": {},
   "outputs": [
    {
     "name": "stderr",
     "output_type": "stream",
     "text": [
      "test_crear_objeto1 (__main__.ProbandoMiClase.test_crear_objeto1) ... ok\n",
      "test_crear_objeto2 (__main__.ProbandoMiClase.test_crear_objeto2) ... ok\n",
      "test_valor_moda (__main__.ProbandoMiClase.test_valor_moda) ... ok\n",
      "\n",
      "----------------------------------------------------------------------\n",
      "Ran 3 tests in 0.003s\n",
      "\n",
      "OK\n"
     ]
    },
    {
     "data": {
      "text/plain": [
       "<unittest.main.TestProgram at 0x1bcf8f3d050>"
      ]
     },
     "execution_count": 62,
     "metadata": {},
     "output_type": "execute_result"
    }
   ],
   "source": [
    "unittest.main(argv=[''], verbosity=2, exit=False)"
   ]
  },
  {
   "attachments": {},
   "cell_type": "markdown",
   "metadata": {},
   "source": [
    "4) Probar una creación incorrecta y visualizar la salida del \"raise\""
   ]
  },
  {
   "cell_type": "code",
   "execution_count": 64,
   "metadata": {},
   "outputs": [
    {
     "ename": "ValueError",
     "evalue": "La lista solo debe contener números enteros.",
     "output_type": "error",
     "traceback": [
      "\u001b[1;31m---------------------------------------------------------------------------\u001b[0m",
      "\u001b[1;31mValueError\u001b[0m                                Traceback (most recent call last)",
      "Cell \u001b[1;32mIn[64], line 1\u001b[0m\n\u001b[1;32m----> 1\u001b[0m h3 \u001b[39m=\u001b[39m h\u001b[39m.\u001b[39;49mHerramientas([\u001b[39m\"\u001b[39;49m\u001b[39mHola\u001b[39;49m\u001b[39m\"\u001b[39;49m])\n\u001b[0;32m      2\u001b[0m h4 \u001b[39m=\u001b[39m h\u001b[39m.\u001b[39mHerramientas([\u001b[39m1\u001b[39m,\u001b[39m2\u001b[39m,\u001b[39m3\u001b[39m,\u001b[39m\"\u001b[39m\u001b[39mcuatro\u001b[39m\u001b[39m\"\u001b[39m,\u001b[39m5\u001b[39m])\n",
      "File \u001b[1;32mc:\\Users/j1941/OneDrive/Escritorio/Python-Prep/M08_clasesyOOP\\Caja_de_herramientas.py:9\u001b[0m, in \u001b[0;36mHerramientas.__init__\u001b[1;34m(self, lista_números)\u001b[0m\n\u001b[0;32m      7\u001b[0m \u001b[39mfor\u001b[39;00m núm \u001b[39min\u001b[39;00m lista_números:\n\u001b[0;32m      8\u001b[0m     \u001b[39mif\u001b[39;00m \u001b[39mnot\u001b[39;00m \u001b[39misinstance\u001b[39m(núm,\u001b[39mint\u001b[39m):\n\u001b[1;32m----> 9\u001b[0m         \u001b[39mraise\u001b[39;00m \u001b[39mValueError\u001b[39;00m(\u001b[39m\"\u001b[39m\u001b[39mLa lista solo debe contener números enteros.\u001b[39m\u001b[39m\"\u001b[39m)\n\u001b[0;32m     10\u001b[0m \u001b[39mself\u001b[39m\u001b[39m.\u001b[39mlista \u001b[39m=\u001b[39m lista_números\n",
      "\u001b[1;31mValueError\u001b[0m: La lista solo debe contener números enteros."
     ]
    }
   ],
   "source": [
    "h3 = h.Herramientas([\"Hola\"])\n",
    "h4 = h.Herramientas([1,2,3,\"cuatro\",5])"
   ]
  },
  {
   "attachments": {},
   "cell_type": "markdown",
   "metadata": {},
   "source": [
    "6) Agregar casos de pruebas para el método verifica_primos() realizando el cambio en la clase, para que devuelva una lista de True o False en función de que el elemento en la posisicón sea o no primo"
   ]
  },
  {
   "cell_type": "code",
   "execution_count": 68,
   "metadata": {},
   "outputs": [
    {
     "data": {
      "text/plain": [
       "[True, True, True, False, True, False]"
      ]
     },
     "execution_count": 68,
     "metadata": {},
     "output_type": "execute_result"
    }
   ],
   "source": [
    "importlib.reload(Caja_de_herramientas)\n",
    "import Caja_de_herramientas as h\n",
    "primos = h.Herramientas([1,2,3,4,5,6])\n",
    "primos.primo()\n"
   ]
  },
  {
   "cell_type": "code",
   "execution_count": 69,
   "metadata": {},
   "outputs": [],
   "source": [
    "class ProbandoMiClase(unittest.TestCase):\n",
    "    def test_crear_objeto1(self):\n",
    "        param = \"hola\"\n",
    "        self.assertRaises(ValueError, h.Herramientas, param)\n",
    "    def test_crear_objeto2(self):\n",
    "        param = [1,2,3]\n",
    "        h1 = h.Herramientas(param)\n",
    "        self.assertEqual(h1.lista, param)\n",
    "    def test_valor_moda(self):\n",
    "        h2 = h.Herramientas([1,2,2,3])\n",
    "        resultado = h2.valor_moda()\n",
    "        resultado_esperado = \"Se repite 2 veces el número 2\" \n",
    "        self.assertEqual(resultado, resultado_esperado)\n",
    "    def test_primos(self):\n",
    "        h3 = h.Herramientas([1,2,3,4,5,6])\n",
    "        resultado = h3.primo()\n",
    "        resultado_esperado = [True, True, True, False, True, False]"
   ]
  },
  {
   "cell_type": "code",
   "execution_count": 70,
   "metadata": {},
   "outputs": [
    {
     "name": "stderr",
     "output_type": "stream",
     "text": [
      "test_crear_objeto1 (__main__.ProbandoMiClase.test_crear_objeto1) ... ok\n",
      "test_crear_objeto2 (__main__.ProbandoMiClase.test_crear_objeto2) ... ok\n",
      "test_primos (__main__.ProbandoMiClase.test_primos) ... ok\n",
      "test_valor_moda (__main__.ProbandoMiClase.test_valor_moda) ... ok\n",
      "\n",
      "----------------------------------------------------------------------\n",
      "Ran 4 tests in 0.008s\n",
      "\n",
      "OK\n"
     ]
    },
    {
     "data": {
      "text/plain": [
       "<unittest.main.TestProgram at 0x1bcf90e1210>"
      ]
     },
     "execution_count": 70,
     "metadata": {},
     "output_type": "execute_result"
    }
   ],
   "source": [
    "import unittest\n",
    "importlib.reload(unittest)\n",
    "unittest.main(argv=[\"\"], verbosity=2, exit=False)"
   ]
  },
  {
   "attachments": {},
   "cell_type": "markdown",
   "metadata": {},
   "source": [
    "7) Agregar casos de pruebas para el método conversion_grados()"
   ]
  },
  {
   "cell_type": "code",
   "execution_count": 76,
   "metadata": {},
   "outputs": [
    {
     "data": {
      "text/plain": [
       "[64.4, 75.2, 86.0, 96.8, 104.0]"
      ]
     },
     "execution_count": 76,
     "metadata": {},
     "output_type": "execute_result"
    }
   ],
   "source": [
    "importlib.reload(Caja_de_herramientas)\n",
    "import Caja_de_herramientas as h\n",
    "h4 = h.Herramientas([18,24,30,36,40])\n",
    "h4.conversión_grados_prueba(\"Celsius\",\"Fahrenheit\")"
   ]
  },
  {
   "cell_type": "code",
   "execution_count": 84,
   "metadata": {},
   "outputs": [],
   "source": [
    "class ProbandoMiClase(unittest.TestCase):\n",
    "    def test_crear_objeto1(self):\n",
    "        param = \"hola\"\n",
    "        self.assertRaises(ValueError, h.Herramientas, param)\n",
    "    def test_crear_objeto2(self):\n",
    "        param = [1,2,3]\n",
    "        h1 = h.Herramientas(param)\n",
    "        self.assertEqual(h1.lista, param)\n",
    "    def test_valor_moda(self):\n",
    "        h2 = h.Herramientas([1,2,2,3])\n",
    "        resultado = h2.valor_moda()\n",
    "        resultado_esperado = \"Se repite 2 veces el número 2\" \n",
    "        self.assertEqual(resultado, resultado_esperado)\n",
    "    def test_primos(self):\n",
    "        h3 = h.Herramientas([1,2,3,4,5,6])\n",
    "        resultado = h3.primo()\n",
    "        resultado_esperado = [True, True, True, False, True, False]\n",
    "        self.assertEqual(resultado, resultado_esperado)\n",
    "    def test_grados(self):\n",
    "        h4 = h.Herramientas([18,24,30,36,40])\n",
    "        resultado = h4.conversión_grados_prueba(\"Celsius\",\"Fahrenheit\")\n",
    "        resultado_esperado = [64.4, 75.2, 86.0, 96.8, 104.0]\n",
    "        self.assertEqual(resultado,resultado_esperado)\n"
   ]
  },
  {
   "cell_type": "code",
   "execution_count": 85,
   "metadata": {},
   "outputs": [
    {
     "name": "stderr",
     "output_type": "stream",
     "text": [
      "test_crear_objeto1 (__main__.ProbandoMiClase.test_crear_objeto1) ... ok\n",
      "test_crear_objeto2 (__main__.ProbandoMiClase.test_crear_objeto2) ... ok\n",
      "test_grados (__main__.ProbandoMiClase.test_grados) ... ok\n",
      "test_primos (__main__.ProbandoMiClase.test_primos) ... ok\n",
      "test_valor_moda (__main__.ProbandoMiClase.test_valor_moda) ... ok\n",
      "\n",
      "----------------------------------------------------------------------\n",
      "Ran 5 tests in 0.007s\n",
      "\n",
      "OK\n"
     ]
    },
    {
     "data": {
      "text/plain": [
       "<unittest.main.TestProgram at 0x1bcf91912d0>"
      ]
     },
     "execution_count": 85,
     "metadata": {},
     "output_type": "execute_result"
    }
   ],
   "source": [
    "importlib.reload(unittest)\n",
    "unittest.main(argv=[\"\"], verbosity=2, exit=False)"
   ]
  },
  {
   "attachments": {},
   "cell_type": "markdown",
   "metadata": {},
   "source": [
    "8) Agregar casos de pruebas para el método factorial()"
   ]
  },
  {
   "cell_type": "code",
   "execution_count": 87,
   "metadata": {},
   "outputs": [
    {
     "data": {
      "text/plain": [
       "[0, 2, 6, 24, 120]"
      ]
     },
     "execution_count": 87,
     "metadata": {},
     "output_type": "execute_result"
    }
   ],
   "source": [
    "importlib.reload(Caja_de_herramientas)\n",
    "import Caja_de_herramientas as h\n",
    "h5 = h.Herramientas([1,2,3,4,5])\n",
    "h5.factorial()"
   ]
  },
  {
   "cell_type": "code",
   "execution_count": 90,
   "metadata": {},
   "outputs": [],
   "source": [
    "class ProbandoMiClase(unittest.TestCase):\n",
    "    def test_crear_objeto1(self):\n",
    "        param = \"hola\"\n",
    "        self.assertRaises(ValueError, h.Herramientas, param)\n",
    "    def test_crear_objeto2(self):\n",
    "        param = [1,2,3]\n",
    "        h1 = h.Herramientas(param)\n",
    "        self.assertEqual(h1.lista, param)\n",
    "    def test_valor_moda(self):\n",
    "        h2 = h.Herramientas([1,2,2,3])\n",
    "        resultado = h2.valor_moda()\n",
    "        resultado_esperado = \"Se repite 2 veces el número 2\" \n",
    "        self.assertEqual(resultado, resultado_esperado)\n",
    "    def test_primos(self):\n",
    "        h3 = h.Herramientas([1,2,3,4,5,6])\n",
    "        resultado = h3.primo()\n",
    "        resultado_esperado = [True, True, True, False, True, False]\n",
    "        self.assertEqual(resultado, resultado_esperado)\n",
    "    def test_grados(self):\n",
    "        h4 = h.Herramientas([18,24,30,36,40])\n",
    "        resultado = h4.conversión_grados_prueba(\"Celsius\",\"Fahrenheit\")\n",
    "        resultado_esperado = [64.4, 75.2, 86.0, 96.8, 104.0]\n",
    "        self.assertEqual(resultado, resultado_esperado)\n",
    "    def test_factorial(self):\n",
    "        h5 = h.Herramientas([1,2,3,4,5])\n",
    "        resultado = h5.factorial()\n",
    "        resultado_esperado = [0, 2, 6, 24, 120]\n",
    "        self.assertEqual(resultado, resultado_esperado)\n"
   ]
  },
  {
   "cell_type": "code",
   "execution_count": 91,
   "metadata": {},
   "outputs": [
    {
     "name": "stderr",
     "output_type": "stream",
     "text": [
      "test_crear_objeto1 (__main__.ProbandoMiClase.test_crear_objeto1) ... ok\n",
      "test_crear_objeto2 (__main__.ProbandoMiClase.test_crear_objeto2) ... ok\n",
      "test_factorial (__main__.ProbandoMiClase.test_factorial) ... ok\n",
      "test_grados (__main__.ProbandoMiClase.test_grados) ... ok\n",
      "test_primos (__main__.ProbandoMiClase.test_primos) ... ok\n",
      "test_valor_moda (__main__.ProbandoMiClase.test_valor_moda) ... ok\n",
      "\n",
      "----------------------------------------------------------------------\n",
      "Ran 6 tests in 0.007s\n",
      "\n",
      "OK\n"
     ]
    },
    {
     "data": {
      "text/plain": [
       "<unittest.main.TestProgram at 0x1bcf90927d0>"
      ]
     },
     "execution_count": 91,
     "metadata": {},
     "output_type": "execute_result"
    }
   ],
   "source": [
    "importlib.reload(unittest)\n",
    "unittest.main(argv=[\"\"], verbosity=2, exit=False)"
   ]
  }
 ],
 "metadata": {
  "interpreter": {
   "hash": "c85384e4cb51c8b72350f3a8712cc8351fdc3955e32a27f9b60c6242ab125f01"
  },
  "kernelspec": {
   "display_name": "Python 3 (ipykernel)",
   "language": "python",
   "name": "python3"
  },
  "language_info": {
   "codemirror_mode": {
    "name": "ipython",
    "version": 3
   },
   "file_extension": ".py",
   "mimetype": "text/x-python",
   "name": "python",
   "nbconvert_exporter": "python",
   "pygments_lexer": "ipython3",
   "version": "3.11.4"
  }
 },
 "nbformat": 4,
 "nbformat_minor": 4
}
