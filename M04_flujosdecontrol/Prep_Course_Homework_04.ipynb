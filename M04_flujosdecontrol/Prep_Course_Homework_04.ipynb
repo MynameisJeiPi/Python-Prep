{
 "cells": [
  {
   "attachments": {},
   "cell_type": "markdown",
   "metadata": {},
   "source": [
    "## Flujos de Control"
   ]
  },
  {
   "attachments": {},
   "cell_type": "markdown",
   "metadata": {},
   "source": [
    "1) Crear una variable que contenga un elemento del conjunto de números enteros y luego imprimir por pantalla si es mayor o menor a cero"
   ]
  },
  {
   "cell_type": "code",
   "execution_count": 28,
   "metadata": {},
   "outputs": [
    {
     "name": "stdout",
     "output_type": "stream",
     "text": [
      "La variable x es mayor a cero.\n"
     ]
    }
   ],
   "source": [
    "x=5\n",
    "if x<0:\n",
    "    print(\"La variable x es menor a cero.\")\n",
    "elif x>0:\n",
    "    print(\"La variable x es mayor a cero.\")\n",
    "else:\n",
    "    print(\"La variable x es igual a cero.\")"
   ]
  },
  {
   "attachments": {},
   "cell_type": "markdown",
   "metadata": {},
   "source": [
    "2) Crear dos variables y un condicional que informe si son del mismo tipo de dato"
   ]
  },
  {
   "cell_type": "code",
   "execution_count": 29,
   "metadata": {},
   "outputs": [
    {
     "name": "stdout",
     "output_type": "stream",
     "text": [
      "Las variables a y b son de distinto tipo.\n"
     ]
    }
   ],
   "source": [
    "a=\"Hola\"\n",
    "b=25\n",
    "if type(a)==type(b):\n",
    "    print(\"Las variables a y b son del mismo tipo.\")\n",
    "else:\n",
    "    print(\"Las variables a y b son de distinto tipo.\")"
   ]
  },
  {
   "attachments": {},
   "cell_type": "markdown",
   "metadata": {},
   "source": [
    "3) Para los valores enteros del 1 al 20, imprimir por pantalla si es par o impar"
   ]
  },
  {
   "cell_type": "code",
   "execution_count": 30,
   "metadata": {},
   "outputs": [
    {
     "name": "stdout",
     "output_type": "stream",
     "text": [
      "1 es número impar\n",
      "2 es número par\n",
      "3 es número impar\n",
      "4 es número par\n",
      "5 es número impar\n",
      "6 es número par\n",
      "7 es número impar\n",
      "8 es número par\n",
      "9 es número impar\n",
      "10 es número par\n",
      "11 es número impar\n",
      "12 es número par\n",
      "13 es número impar\n",
      "14 es número par\n",
      "15 es número impar\n",
      "16 es número par\n",
      "17 es número impar\n",
      "18 es número par\n",
      "19 es número impar\n",
      "20 es número par\n"
     ]
    }
   ],
   "source": [
    "count=0\n",
    "while count<20:\n",
    "    count=count+1\n",
    "    if count%2==0:\n",
    "        print(count,\"es número par\")\n",
    "    else:\n",
    "        print(count,\"es número impar\")"
   ]
  },
  {
   "attachments": {},
   "cell_type": "markdown",
   "metadata": {},
   "source": [
    "4) En un ciclo for mostrar para los valores entre 0 y 5 el resultado de elevarlo a la potencia igual a 3"
   ]
  },
  {
   "cell_type": "code",
   "execution_count": 31,
   "metadata": {},
   "outputs": [
    {
     "name": "stdout",
     "output_type": "stream",
     "text": [
      "0\n",
      "1\n",
      "8\n",
      "27\n",
      "64\n",
      "125\n"
     ]
    }
   ],
   "source": [
    "num=[0,1,2,3,4,5]\n",
    "for n in num:\n",
    "    print(n**3)"
   ]
  },
  {
   "attachments": {},
   "cell_type": "markdown",
   "metadata": {},
   "source": [
    "5) Crear una variable que contenga un número entero y realizar un ciclo for la misma cantidad de ciclos"
   ]
  },
  {
   "cell_type": "code",
   "execution_count": 38,
   "metadata": {},
   "outputs": [
    {
     "name": "stdout",
     "output_type": "stream",
     "text": [
      "Cuenta regresiva: 10 Valor de i: 0 Valor de x: 10\n",
      "Cuenta regresiva: 9 Valor de i: 1 Valor de x: 10\n",
      "Cuenta regresiva: 8 Valor de i: 2 Valor de x: 10\n",
      "Cuenta regresiva: 7 Valor de i: 3 Valor de x: 10\n",
      "Cuenta regresiva: 6 Valor de i: 4 Valor de x: 10\n",
      "Cuenta regresiva: 5 Valor de i: 5 Valor de x: 10\n",
      "Cuenta regresiva: 4 Valor de i: 6 Valor de x: 10\n",
      "Cuenta regresiva: 3 Valor de i: 7 Valor de x: 10\n",
      "Cuenta regresiva: 2 Valor de i: 8 Valor de x: 10\n",
      "Cuenta regresiva: 1 Valor de i: 9 Valor de x: 10\n",
      "¡Feliz año nuevo!\n"
     ]
    }
   ],
   "source": [
    "x=10\n",
    "for i in range(x):\n",
    "    print(\"Cuenta regresiva:\",x-i,\"Valor de i:\",i,\"Valor de x:\",x) #El valor de la iteración comienza en 0. \n",
    "    if i==x-1:\n",
    "        print(\"¡Feliz año nuevo!\")"
   ]
  },
  {
   "attachments": {},
   "cell_type": "markdown",
   "metadata": {},
   "source": [
    "6) Utilizar un ciclo while para realizar el factorial de un número guardado en una variable, sólo si la variable contiene un número entero mayor a 0"
   ]
  },
  {
   "cell_type": "code",
   "execution_count": 44,
   "metadata": {},
   "outputs": [
    {
     "name": "stdout",
     "output_type": "stream",
     "text": [
      "1\n",
      "2\n",
      "6\n",
      "24\n"
     ]
    }
   ],
   "source": [
    "fctl=4\n",
    "n=0\n",
    "value=1\n",
    "while True:\n",
    "    n=n+1\n",
    "    value=value*n\n",
    "    print(value)\n",
    "    if n==fctl:\n",
    "        break\n"
   ]
  },
  {
   "attachments": {},
   "cell_type": "markdown",
   "metadata": {},
   "source": [
    "7) Crear un ciclo for dentro de un ciclo while"
   ]
  },
  {
   "cell_type": "code",
   "execution_count": 47,
   "metadata": {},
   "outputs": [
    {
     "name": "stdout",
     "output_type": "stream",
     "text": [
      "9\n",
      "8\n",
      "7\n",
      "6\n",
      "5\n",
      "4\n",
      "3\n",
      "2\n",
      "1\n",
      "0\n"
     ]
    }
   ],
   "source": [
    "x=10\n",
    "while x>0:\n",
    "    for i in range(x):\n",
    "        x-=1\n",
    "        print(x)\n",
    "\n"
   ]
  },
  {
   "attachments": {},
   "cell_type": "markdown",
   "metadata": {},
   "source": [
    "8) Crear un ciclo while dentro de un ciclo for"
   ]
  },
  {
   "cell_type": "code",
   "execution_count": 21,
   "metadata": {},
   "outputs": [
    {
     "name": "stdout",
     "output_type": "stream",
     "text": [
      "Ciclo for 1\n",
      "Hola como estás.\n",
      "Ciclo for 2\n",
      "Hola como estás.\n",
      "Ciclo for 3\n",
      "Hola como estás.\n",
      "Ciclo for 4\n",
      "Hola como estás.\n",
      "Ciclo for 5\n",
      "Hola como estás.\n",
      "Ciclo for 6\n",
      "Hola como estás.\n",
      "Ciclo for 7\n",
      "Hola como estás.\n",
      "Ciclo for 8\n",
      "Hola como estás.\n",
      "Ciclo for 9\n",
      "Hola como estás.\n",
      "Ciclo for 10\n",
      "Hola como estás.\n"
     ]
    }
   ],
   "source": [
    "x=10\n",
    "n_cic_f=0\n",
    "n_cic_wh=0\n",
    "for i in range(x):\n",
    "    n_cic_f+=1\n",
    "    print(\"Ciclo for\",n_cic_f)\n",
    "    while True:\n",
    "        print(\"Hola como estás.\")\n",
    "        break"
   ]
  },
  {
   "attachments": {},
   "cell_type": "markdown",
   "metadata": {},
   "source": [
    "9) Imprimir los números primos existentes entre 0 y 30"
   ]
  },
  {
   "cell_type": "code",
   "execution_count": 92,
   "metadata": {},
   "outputs": [
    {
     "name": "stdout",
     "output_type": "stream",
     "text": [
      "0\n",
      "1\n",
      "2\n",
      "3\n",
      "5\n",
      "7\n",
      "11\n",
      "13\n",
      "17\n",
      "19\n",
      "23\n",
      "29\n"
     ]
    }
   ],
   "source": [
    "top_nums=30\n",
    "n=0\n",
    "primo=True\n",
    "while n<=top_nums:\n",
    "    for div in range(2, n):\n",
    "        if n%div==0:\n",
    "            primo=False\n",
    "    if primo==True:\n",
    "        print(n)\n",
    "    else:\n",
    "      primo=True\n",
    "    n+=1"
   ]
  },
  {
   "attachments": {},
   "cell_type": "markdown",
   "metadata": {},
   "source": [
    "10) ¿Se puede mejorar el proceso del punto 9? Utilizar las sentencias break y/ó continue para tal fin"
   ]
  },
  {
   "cell_type": "code",
   "execution_count": 122,
   "metadata": {},
   "outputs": [
    {
     "name": "stdout",
     "output_type": "stream",
     "text": [
      "0\n",
      "1\n",
      "2\n",
      "3\n",
      "5\n",
      "7\n",
      "11\n",
      "13\n",
      "17\n",
      "19\n",
      "23\n",
      "29\n"
     ]
    }
   ],
   "source": [
    "top_nums=30\n",
    "n=0\n",
    "primo=True\n",
    "while n<=top_nums:\n",
    "    for div in range(2, n):\n",
    "        if n%div==0:\n",
    "            primo=False\n",
    "            break\n",
    "    if (primo):\n",
    "        print(n)\n",
    "    else:\n",
    "        primo = True\n",
    "    n+=1\n"
   ]
  },
  {
   "attachments": {},
   "cell_type": "markdown",
   "metadata": {},
   "source": [
    "11) En los puntos 9 y 10, se diseño un código que encuentra números primos y además se lo optimizó. ¿Es posible saber en qué medida se optimizó?"
   ]
  },
  {
   "cell_type": "code",
   "execution_count": 123,
   "metadata": {},
   "outputs": [
    {
     "name": "stdout",
     "output_type": "stream",
     "text": [
      "0\n",
      "1\n",
      "2\n",
      "3\n",
      "5\n",
      "7\n",
      "11\n",
      "13\n",
      "17\n",
      "19\n",
      "23\n",
      "29\n",
      "número de ciclos sin break: 406\n",
      "0\n",
      "1\n",
      "2\n",
      "3\n",
      "5\n",
      "7\n",
      "11\n",
      "13\n",
      "17\n",
      "19\n",
      "23\n",
      "29\n",
      "número de ciclos con break: 135\n",
      "Se optimizó en un 33%.\n"
     ]
    }
   ],
   "source": [
    "top_nums=30\n",
    "n=0\n",
    "primo=True\n",
    "ciclos_sin_break=0\n",
    "while n<=top_nums:\n",
    "    for div in range(2, n):\n",
    "        ciclos_sin_break+=1\n",
    "        if n%div==0:\n",
    "            primo=False\n",
    "    if (primo):\n",
    "        print(n)\n",
    "    else:\n",
    "        primo = True\n",
    "    n+=1\n",
    "print(\"número de ciclos sin break:\",ciclos_sin_break)\n",
    "\n",
    "top_nums=30\n",
    "n=0\n",
    "primo=True\n",
    "ciclos_con_break=0\n",
    "while n<=top_nums:\n",
    "    for div in range(2, n):\n",
    "        ciclos_con_break+=1\n",
    "        if n%div==0:\n",
    "            primo=False\n",
    "            break\n",
    "    if (primo):\n",
    "        print(n)\n",
    "    else:\n",
    "        primo = True\n",
    "    n+=1\n",
    "print(\"número de ciclos con break:\",ciclos_con_break)\n",
    "\n",
    "optimización=(ciclos_con_break*100/ciclos_sin_break)\n",
    "print(\"Se optimizó en un \"+str(int(optimización))+\"%.\")"
   ]
  },
  {
   "attachments": {},
   "cell_type": "markdown",
   "metadata": {},
   "source": [
    "12) Aplicando continue, armar un ciclo while que solo imprima los valores divisibles por 12, dentro del rango de números de 100 a 300"
   ]
  },
  {
   "cell_type": "code",
   "execution_count": 136,
   "metadata": {},
   "outputs": [
    {
     "name": "stdout",
     "output_type": "stream",
     "text": [
      "108 es divisible entre 12\n",
      "120 es divisible entre 12\n",
      "132 es divisible entre 12\n",
      "144 es divisible entre 12\n",
      "156 es divisible entre 12\n",
      "168 es divisible entre 12\n",
      "180 es divisible entre 12\n",
      "192 es divisible entre 12\n",
      "204 es divisible entre 12\n",
      "216 es divisible entre 12\n",
      "228 es divisible entre 12\n",
      "240 es divisible entre 12\n",
      "252 es divisible entre 12\n",
      "264 es divisible entre 12\n",
      "276 es divisible entre 12\n",
      "288 es divisible entre 12\n",
      "300 es divisible entre 12\n"
     ]
    }
   ],
   "source": [
    "rango = 300\n",
    "n = 99\n",
    "divisible = 12\n",
    "while n<=rango:\n",
    "    n+=1\n",
    "    if (n % divisible != 0):\n",
    "        continue\n",
    "    print(n,\"es divisible entre\",divisible)\n",
    "\n",
    "        \n"
   ]
  },
  {
   "cell_type": "code",
   "execution_count": 1,
   "metadata": {},
   "outputs": [
    {
     "name": "stdout",
     "output_type": "stream",
     "text": [
      "2\n",
      "¿Seguir?\n",
      "3\n",
      "¿Seguir?\n",
      "5\n",
      "¿Seguir?\n",
      "7\n",
      "¿Seguir?\n",
      "11\n",
      "¿Seguir?\n",
      "13\n",
      "¿Seguir?\n"
     ]
    }
   ],
   "source": [
    "seguir=\"1\"\n",
    "n=1\n",
    "primo=True\n",
    "while seguir==\"1\":\n",
    "    n+=1\n",
    "    for div in range(2,n):\n",
    "        if n%div==0:\n",
    "            primo=False\n",
    "    if primo==True:\n",
    "        print(n)\n",
    "        print(\"¿Seguir?\")\n",
    "        seguir=input()\n",
    "    primo=True\n",
    "     \n",
    "                  "
   ]
  },
  {
   "attachments": {},
   "cell_type": "markdown",
   "metadata": {},
   "source": [
    "14) Crear un ciclo while que encuentre dentro del rango de 100 a 300 el primer número divisible por 3 y además múltiplo de 6"
   ]
  },
  {
   "cell_type": "code",
   "execution_count": 17,
   "metadata": {},
   "outputs": [
    {
     "name": "stdout",
     "output_type": "stream",
     "text": [
      "102 divisible entre 3 y múltiplo de 6.\n"
     ]
    }
   ],
   "source": [
    "n=100\n",
    "while n<=300:\n",
    "    n+=1\n",
    "    if (n % 6 == 0):\n",
    "        print(n,\"divisible entre 3 y múltiplo de 6.\")\n",
    "        break\n",
    " \n",
    "        "
   ]
  }
 ],
 "metadata": {
  "interpreter": {
   "hash": "c85384e4cb51c8b72350f3a8712cc8351fdc3955e32a27f9b60c6242ab125f01"
  },
  "kernelspec": {
   "display_name": "Python 3 (ipykernel)",
   "language": "python",
   "name": "python3"
  },
  "language_info": {
   "codemirror_mode": {
    "name": "ipython",
    "version": 3
   },
   "file_extension": ".py",
   "mimetype": "text/x-python",
   "name": "python",
   "nbconvert_exporter": "python",
   "pygments_lexer": "ipython3",
   "version": "3.11.4"
  }
 },
 "nbformat": 4,
 "nbformat_minor": 4
}
